{
 "cells": [
  {
   "cell_type": "code",
   "execution_count": 11,
   "metadata": {},
   "outputs": [
    {
     "name": "stdout",
     "output_type": "stream",
     "text": [
      "Data Load Done\n"
     ]
    }
   ],
   "source": [
    "import pandas as pd\n",
    "import numpy as np\n",
    "import datetime as dt\n",
    "import calendar\n",
    "from dateutil.relativedelta import relativedelta\n",
    "import math\n",
    "import re\n",
    "import pyodbc\n",
    "\n",
    "\n",
    "\n",
    "# Reading Source Data 'ADT_Dummy Data' and 'ADT_ER_IP_04012021to07062021'\n",
    "\n",
    "server = 'wn000038725' \n",
    "database = 'oas_mas_stg' \n",
    "username = 'svcoimas'\n",
    "password = 'Canopyanalytics#124'\n",
    "\n",
    "#cnxn = pyodbc.connect('DRIVER={ODBC Driver 17 for SQL Server};SERVER='+server+';DATABASE='+database+';Trusted_Connection=yes;')\n",
    "cnxn = pyodbc.connect('DRIVER={ODBC Driver 17 for SQL Server};SERVER='+server+';DATABASE='+database+';UID='+username+';PWD='+ password)\n",
    "cursor = cnxn.cursor()\n",
    "\n",
    "\n",
    "df = pd.read_excel(r'C:\\Users\\ssing296\\Desktop\\Canopy\\MyCanopy Dashboard\\optum_registration_report_4_2.xls')\n",
    "\n",
    "#df['Diagnosis'].fillna('blank_code', inplace=True)\n",
    "\n",
    "qry_insert = \"Insert into  [Canopy].[Registration_Master_1] ([Date of Registration],[Member ID of Registrant],[Kinvey ID of Registrant],[Member ID of Primary Subscriber],[Kinvey ID of subscriber],[Group ID of registrant],[Payor of Registrant],[IPA of Registrant],[Category Name of Registrant],[DOB of Registrant],[Age]) values(?,?,?,?,?,?,?,?,?,?,?)\"\n",
    "\n",
    "#cursor.execute(\"truncate table [Canopy].[ARCH_ADT_ANDOR_IP_input]\")\n",
    "\n",
    "def check_null(column_value):\n",
    "    if(pd.isnull(column_value)):\n",
    "        column_value = None\n",
    "    else:\n",
    "        column_value\n",
    "    return column_value\n",
    "\n",
    "insert_batch = []\n",
    "rec = \"\"\n",
    "counter = 0;\n",
    "batchnum = 1;\n",
    "\n",
    "data_len = len(df)\n",
    "\n",
    "\n",
    "for index,row in df.iterrows():\n",
    "\n",
    "    rec = (check_null(row['Date of Registration']),check_null(row[' Member ID of Registrant']),row[' Kinvey ID of Registrant'],row[' Member ID of Primary Subscriber'],row[' Kinvey ID of subscriber'],row[' Group ID of registrant'],check_null(row[' Payor of Registrant']),check_null(row[' IPA of Registrant']),row[' Category Name of Registrant'],check_null(row[' DOB of Registrant']),check_null(row['Age'])) \n",
    "    insert_batch.append(rec)\n",
    "    counter = counter + 1;\n",
    "    if(counter%100 == 0):\n",
    "        cursor.executemany(qry_insert,insert_batch)\n",
    "        cursor.commit()\n",
    "        counter = 0\n",
    "        data_len = data_len - len(insert_batch)\n",
    "        insert_batch = []\n",
    "        batchnum = batchnum + 1\n",
    "\n",
    "if data_len != 0:\n",
    "    cursor.executemany(qry_insert,insert_batch)  \n",
    "\n",
    "    cursor.execute(qry_insert,rec)\n",
    "    \n",
    "print(\"Data Load Done\")\n",
    "\n",
    "cnxn.commit()\n",
    "cursor.close()"
   ]
  },
  {
   "cell_type": "code",
   "execution_count": null,
   "metadata": {
    "collapsed": true
   },
   "outputs": [],
   "source": []
  }
 ],
 "metadata": {
  "kernelspec": {
   "display_name": "Python 3",
   "language": "python",
   "name": "python3"
  },
  "language_info": {
   "codemirror_mode": {
    "name": "ipython",
    "version": 3
   },
   "file_extension": ".py",
   "mimetype": "text/x-python",
   "name": "python",
   "nbconvert_exporter": "python",
   "pygments_lexer": "ipython3",
   "version": "3.6.1"
  }
 },
 "nbformat": 4,
 "nbformat_minor": 2
}
