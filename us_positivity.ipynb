{
 "cells": [
  {
   "cell_type": "code",
   "execution_count": 9,
   "metadata": {},
   "outputs": [
    {
     "name": "stdout",
     "output_type": "stream",
     "text": [
      "3.6% 7-day positivity rate on 3/15, down from 7.4% one month ago.\n"
     ]
    }
   ],
   "source": [
    "import pandas as pd\n",
    "import numpy as np\n",
    "import datetime as dt\n",
    "import calendar\n",
    "from dateutil.relativedelta import relativedelta\n",
    "\n",
    "df = pd.read_excel(r'C:\\Users\\ssing296\\Desktop\\Python-Coursera\\COVID_QA_Final Output.xlsx')\n",
    "\n",
    "yday = dt.date.today() - dt.timedelta(days=1)\n",
    "one_month_ago = yday - relativedelta(months=1)\n",
    "two_months_ago = yday - relativedelta(months=2)\n",
    "\n",
    "def us_positivity (df):\n",
    "  current_positivity = float(df[df['Join Constant'] == 22]['Metric Value'].iloc[0])\n",
    "  one_month_ago_positivity = float(df[df['Join Constant'] == 95]['Metric Value'].iloc[0])\n",
    "  two_month_ago_positivity = float(df[df['Join Constant'] == 96]['Metric Value'].iloc[0])\n",
    "  \n",
    "  a = '{:.1f}% 7-day positivity rate on {}/{}, down from {:.1f}% one month ago.'.format(current_positivity,yday.month,yday.day,one_month_ago_positivity)\n",
    "     \n",
    "  return a\n",
    "\n",
    "US_Comment_Positivity = us_positivity(df)\n",
    "\n",
    "print(US_Comment_Positivity)\n",
    "\n"
   ]
  },
  {
   "cell_type": "code",
   "execution_count": null,
   "metadata": {},
   "outputs": [],
   "source": []
  }
 ],
 "metadata": {
  "kernelspec": {
   "display_name": "Python 3",
   "language": "python",
   "name": "python3"
  },
  "language_info": {
   "codemirror_mode": {
    "name": "ipython",
    "version": 3
   },
   "file_extension": ".py",
   "mimetype": "text/x-python",
   "name": "python",
   "nbconvert_exporter": "python",
   "pygments_lexer": "ipython3",
   "version": "3.8.5"
  }
 },
 "nbformat": 4,
 "nbformat_minor": 4
}
