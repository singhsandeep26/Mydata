{
 "cells": [
  {
   "cell_type": "code",
   "execution_count": 7,
   "metadata": {},
   "outputs": [
    {
     "name": "stdout",
     "output_type": "stream",
     "text": [
      "703,467 unique positive UHC domestic members reported by participating laboratory partners for COVD-19 RT-PCR, with a 16.0% positivity rate as of 3/16.\n"
     ]
    }
   ],
   "source": [
    "import pandas as pd\n",
    "import numpy as np\n",
    "import datetime as dt\n",
    "import calendar\n",
    "from dateutil.relativedelta import relativedelta\n",
    "\n",
    "uhc_domestic_RT_PCR = pd.read_excel(r'C:\\Users\\ssing296\\Desktop\\Python-Coursera\\7-day Average and % of Detected Members with RT-PCR Test by Lab Service Date.xlsx')\n",
    "\n",
    "df = pd.read_excel(r'C:\\Users\\ssing296\\Desktop\\Python-Coursera\\COVID_QA_Final Output.xlsx')\n",
    "\n",
    "\n",
    "UHG_Workforce = df[df['Section'] == 'UHG Workforce, Member/Patient, and Ops Data'][['Join Constant','Metric Value']].sort_values(['Join Constant'])\n",
    "\n",
    "cons_met_dict = {}\n",
    "for i in range(0,len(UHG_Workforce)):\n",
    "    cons_met_dict[UHG_Workforce.iloc[i,0]] = UHG_Workforce.iloc[i,1]  \n",
    "\n",
    "\n",
    "\n",
    "\n",
    "def domestic_RT_PCR(positivity_rate):\n",
    "    \n",
    "    #positivity_rate.sort_values(by=['DOS'], inplace=True, ascending=False)\n",
    "    \n",
    "    lstsort = positivity_rate.sort_values(by=['DOS'], ascending=False)\n",
    "    \n",
    "    per_detected = lstsort['% Detected'].iloc[0:7].tolist()\n",
    "    \n",
    "    \n",
    "    detected_7day_avg = round(sum(per_detected)/len(per_detected)*100,0)\n",
    "    \n",
    "    b = 'Positivity rate was {:}% as compared to a peak of'.format(detected_7day_avg)\n",
    "    return b\n",
    "        \n",
    "    \n",
    "def UHG_B10 (my_dict,df,positivity_rate): \n",
    "\n",
    "    Month1 = df[df['Join Constant'] == 127]['Date Updated'].dt.month.item()\n",
    "    Day1 = df[df['Join Constant'] == 127]['Date Updated'].dt.day.item()\n",
    "    \n",
    "    Month2 = df[df['Join Constant'] == 129]['Date Updated'].dt.month.item()\n",
    "    Day2 = df[df['Join Constant'] == 129]['Date Updated'].dt.day.item()\n",
    "    \n",
    "    lstsort = positivity_rate.sort_values(by=['DOS'], ascending=False)\n",
    "    \n",
    "    per_detected = lstsort['% Detected'].iloc[0:7].tolist()    \n",
    "    \n",
    "    detected_7day_avg = round(sum(per_detected)/len(per_detected)*100,0)\n",
    "\n",
    "    if (round(detected_7day_avg,0) == 8) or (round(detected_7day_avg,0) == 11):\n",
    "        print_text = \"an\"\n",
    "    else:\n",
    "        print_text = \"a\"\n",
    "    \n",
    "    a ='{:,.0f} unique positive UHC domestic members reported by participating laboratory partners for COVD-19 RT-PCR, with {} {}% positivity rate as of {}/{}.'.format(my_dict[127],print_text,detected_7day_avg,Month1,Day1)\n",
    "    #b ='Positivity rate was {}% as compared to a peak of {:.1f}% on {}/{}.'.format(detected_7day_avg,my_dict[129],Month2,Day2)\n",
    "    \n",
    "    return a\n",
    "    \n",
    "#a = domestic_RT_PCR(uhc_domestic_RT_PCR)\n",
    "#print(a)\n",
    "\n",
    "\n",
    "UHG_Workforce_Comments_B10 = UHG_B10(cons_met_dict,df,uhc_domestic_RT_PCR)\n",
    "\n",
    "print(UHG_Workforce_Comments_B10)"
   ]
  },
  {
   "cell_type": "code",
   "execution_count": null,
   "metadata": {
    "collapsed": true
   },
   "outputs": [],
   "source": []
  }
 ],
 "metadata": {
  "kernelspec": {
   "display_name": "Python 3",
   "language": "python",
   "name": "python3"
  },
  "language_info": {
   "codemirror_mode": {
    "name": "ipython",
    "version": 3
   },
   "file_extension": ".py",
   "mimetype": "text/x-python",
   "name": "python",
   "nbconvert_exporter": "python",
   "pygments_lexer": "ipython3",
   "version": "3.8.5"
  }
 },
 "nbformat": 4,
 "nbformat_minor": 2
}
