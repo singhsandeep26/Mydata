{
 "cells": [
  {
   "cell_type": "code",
   "execution_count": 2,
   "metadata": {},
   "outputs": [
    {
     "name": "stdout",
     "output_type": "stream",
     "text": [
      "{101: 54470.0, 102: 4.19, 103: 150.0, 104: 81.0, 105: 6127.0, 106: 3079.0, 107: 15323.0, 108: 660.0, 109: 828.0, 110: 39147.0, 111: 3282.0, 112: 2269.0, 113: 184910.0, 114: 11734.0, 115: 221457.0, 116: 11904.0, 117: 7044.0, 118: 2037767.0, 119: 9.015536319595265, 120: nan, 121: nan, 122: 9.015536319595265, 123: 4.19, 124: 76.49006622516556, 125: 78.6653956148713, 126: 78.17912657290896, 127: 742595.0, 128: nan, 129: 24.6, 130: nan, 131: 242632.0, 132: nan}\n",
      "2239094.0\n",
      "9.055709745610377\n"
     ]
    }
   ],
   "source": [
    "import pandas as pd\n",
    "import numpy as np\n",
    "import datetime as dt\n",
    "import calendar\n",
    "from dateutil.relativedelta import relativedelta\n",
    "\n",
    "cdo_test = pd.read_excel(r'C:\\Users\\ssing296\\Desktop\\Python-Coursera\\OCT_OptumCare COVID Test Data w_Datetime_OD_SUM_CI.xlsx')\n",
    "\n",
    "df = pd.read_excel(r'C:\\Users\\ssing296\\Desktop\\Python-Coursera\\COVID_QA_Final Output.xlsx')\n",
    "\n",
    "UHG_Workforce = df[df['Section'] == 'UHG Workforce, Member/Patient, and Ops Data'][['Join Constant','Metric Value']].sort_values(['Join Constant'])\n",
    "cons_met_dict = {}\n",
    "for i in range(0,len(UHG_Workforce)):\n",
    "    cons_met_dict[UHG_Workforce.iloc[i,0]] = UHG_Workforce.iloc[i,1]  \n",
    "    \n",
    "print(cons_met_dict)\n",
    "\n",
    "def UHG_B8 (my_dict):\n",
    "    \n",
    "    covid_19_tests = float(my_dict[my_dict['Latest_Report'] == 1]['COVID_19_TESTS'].sum())\n",
    "    \n",
    "    covid_19_positive = float(my_dict[my_dict['Latest_Report'] == 1]['COVID_19_POSITIVE'].sum())\n",
    "    \n",
    "    covid_19_pending = float(my_dict[my_dict['Latest_Report'] == 1]['COVID_19_PENDING'].sum())\n",
    "    \n",
    "    Percent_Positive = covid_19_positive /(covid_19_tests - covid_19_pending)*100\n",
    "    \n",
    "    print(covid_19_tests)\n",
    "    print(Percent_Positive)\n",
    "    \n",
    "    #a ='{:,.0f} COVID-19 tests conducted by OptumHealth CDOs, with a {:.1f}% positivity rate, down from {:.1f}% one month ago.'.format(my_dict[118], my_dict[119],my_dict[122])\n",
    "    \n",
    "    #return a\n",
    "    \n",
    "abc = UHG_B8(cdo_test)\n",
    "\n",
    "\n"
   ]
  },
  {
   "cell_type": "code",
   "execution_count": null,
   "metadata": {
    "collapsed": true
   },
   "outputs": [],
   "source": []
  }
 ],
 "metadata": {
  "kernelspec": {
   "display_name": "Python 3",
   "language": "python",
   "name": "python3"
  },
  "language_info": {
   "codemirror_mode": {
    "name": "ipython",
    "version": 3
   },
   "file_extension": ".py",
   "mimetype": "text/x-python",
   "name": "python",
   "nbconvert_exporter": "python",
   "pygments_lexer": "ipython3",
   "version": "3.6.1"
  }
 },
 "nbformat": 4,
 "nbformat_minor": 4
}
