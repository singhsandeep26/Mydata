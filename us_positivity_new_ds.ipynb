{
 "cells": [
  {
   "cell_type": "code",
   "execution_count": 14,
   "metadata": {},
   "outputs": [
    {
     "name": "stdout",
     "output_type": "stream",
     "text": [
      "19.13265742729188\n",
      "4.853752358832922\n",
      "4.1% 7-day positivity rate on 3/17, down from 4.9% one month ago.\n"
     ]
    }
   ],
   "source": [
    "import pandas as pd\n",
    "import numpy as np\n",
    "import datetime as dt\n",
    "import calendar\n",
    "from dateutil.relativedelta import relativedelta\n",
    "\n",
    "df = pd.read_excel(r'C:\\Users\\ssing296\\Desktop\\Python-Coursera\\COVID_QA_Final Output.xlsx')\n",
    "\n",
    "newdf = pd.read_excel(r'C:\\Users\\ssing296\\Desktop\\Python-Coursera\\(CTP Replacement) OCT_Worldometer US States COVID-19 New Cases, Deaths, Tests w_ Moving Averages_OD_SafetoShare.xlsx')\n",
    "\n",
    "yday = dt.date.today() - dt.timedelta(days=1)\n",
    "one_month_ago = yday - relativedelta(months=1)\n",
    "two_months_ago = yday - relativedelta(months=2)\n",
    "\n",
    "def us_positivity (df):\n",
    "    \n",
    "    maxdate = max(df[\"Date Updated\"])\n",
    "    \n",
    "    month_ago = maxdate - dt.timedelta(days=7)\n",
    "    \n",
    "    four_week_ago = maxdate - dt.timedelta(days=28)\n",
    "    \n",
    "    current_positivity = int(df[(df['Date Updated'] == maxdate) & (df['Latest_Date_Rank'] == 1)]['positiveIncrease'].sum())\n",
    "    \n",
    "    totalTestResults_positivity = int(df[(df['Date Updated'] == maxdate) & (df['Latest_Date_Rank'] == 1)]['totalTestResultsIncrease'].sum())\n",
    "\n",
    "    current_positivity_rate = (current_positivity / totalTestResults_positivity) * 100\n",
    "    \n",
    "    one_month_ago_positivity = int(df[(df['Date Updated'] == four_week_ago)]['positiveIncrease'].mean())\n",
    "    \n",
    "    one_month_ago_totalTestResults_positivity = int(df[(df['Date Updated'] == four_week_ago)]['totalTestResultsIncrease'].mean())\n",
    "    \n",
    "    one_month_ago_positivity_rate = (one_month_ago_positivity / one_month_ago_totalTestResults_positivity) * 100\n",
    "\n",
    "    if (current_positivity_rate - one_month_ago_positivity_rate > 0):\n",
    "        print_text = \"up\"\n",
    "    else:\n",
    "        print_text = \"down\"\n",
    "      \n",
    "    a = '{:.1f}% 7-day positivity rate on {}/{}, {} from {:.1f}% one month ago.'.format(current_positivity_rate,maxdate.month,maxdate.day,print_text,one_month_ago_positivity_rate)\n",
    "     \n",
    "    return a\n",
    "\n",
    "US_Comment_Positivity = us_positivity(newdf)\n",
    "\n",
    "print(US_Comment_Positivity)\n",
    "\n"
   ]
  },
  {
   "cell_type": "code",
   "execution_count": null,
   "metadata": {},
   "outputs": [],
   "source": []
  }
 ],
 "metadata": {
  "kernelspec": {
   "display_name": "Python 3",
   "language": "python",
   "name": "python3"
  },
  "language_info": {
   "codemirror_mode": {
    "name": "ipython",
    "version": 3
   },
   "file_extension": ".py",
   "mimetype": "text/x-python",
   "name": "python",
   "nbconvert_exporter": "python",
   "pygments_lexer": "ipython3",
   "version": "3.8.5"
  }
 },
 "nbformat": 4,
 "nbformat_minor": 4
}
