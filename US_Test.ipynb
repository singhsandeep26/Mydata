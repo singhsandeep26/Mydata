{
 "cells": [
  {
   "cell_type": "code",
   "execution_count": 1,
   "metadata": {},
   "outputs": [
    {
     "ename": "NameError",
     "evalue": "name 'df' is not defined",
     "output_type": "error",
     "traceback": [
      "\u001b[1;31m---------------------------------------------------------------------------\u001b[0m",
      "\u001b[1;31mNameError\u001b[0m                                 Traceback (most recent call last)",
      "\u001b[1;32m<ipython-input-1-f122cbc3eede>\u001b[0m in \u001b[0;36m<module>\u001b[1;34m\u001b[0m\n\u001b[0;32m     70\u001b[0m     \u001b[1;32mreturn\u001b[0m \u001b[0ma\u001b[0m\u001b[1;33m\u001b[0m\u001b[1;33m\u001b[0m\u001b[0m\n\u001b[0;32m     71\u001b[0m \u001b[1;33m\u001b[0m\u001b[0m\n\u001b[1;32m---> 72\u001b[1;33m \u001b[0mUS_Comment_Tests1\u001b[0m \u001b[1;33m=\u001b[0m \u001b[0mnew_tests_KPI1\u001b[0m\u001b[1;33m(\u001b[0m\u001b[0mdf\u001b[0m\u001b[1;33m)\u001b[0m\u001b[1;33m\u001b[0m\u001b[1;33m\u001b[0m\u001b[0m\n\u001b[0m\u001b[0;32m     73\u001b[0m \u001b[0mUS_Comment_Tests2\u001b[0m \u001b[1;33m=\u001b[0m \u001b[0mnew_tests_KPI2\u001b[0m\u001b[1;33m(\u001b[0m\u001b[0mdf\u001b[0m\u001b[1;33m)\u001b[0m\u001b[1;33m\u001b[0m\u001b[1;33m\u001b[0m\u001b[0m\n\u001b[0;32m     74\u001b[0m \u001b[1;33m\u001b[0m\u001b[0m\n",
      "\u001b[1;31mNameError\u001b[0m: name 'df' is not defined"
     ]
    }
   ],
   "source": [
    "import pandas as pd\n",
    "import numpy as np\n",
    "import datetime as dt\n",
    "import calendar\n",
    "from dateutil.relativedelta import relativedelta\n",
    "\n",
    "#df = pd.read_excel(r'C:\\Users\\ssing296\\Desktop\\Python-Coursera\\COVID_QA_Final Output.xlsx')\n",
    "newdf = pd.read_excel(r'C:\\Users\\ssing296\\Desktop\\Python-Coursera\\(CTP Replacement) OCT_Worldometer US States COVID-19 New Cases, Deaths, Tests w_ Moving Averages_OD_SafetoShare.xlsx')\n",
    "\n",
    "\n",
    "yday = dt.date.today() - dt.timedelta(days=1)\n",
    "week_ago = yday - dt.timedelta(days=7)\n",
    "\n",
    "def new_tests_KPI1 (df):\n",
    "\n",
    "    new_case_yday = int(df[df['Join Constant'] == 15]['Metric Value'].iloc[0])\n",
    "    new_case_last_week = int(df[df['Join Constant'] == 16]['Metric Value'].iloc[0])\n",
    "    change = df[df['Join Constant'] == 17]['Metric Value'].iloc[0]\n",
    "\n",
    "    MA_pc = df[df['Join Constant'] == 18]['Metric Value'].iloc[0]\n",
    "    MA_yday = float(df[df['Join Constant'] == 19]['Metric Value'].iloc[0])\n",
    "    MA_last_month = float(df[df['Join Constant'] == 21]['Metric Value'].iloc[0])\n",
    "    MA_change = float(df[df['Join Constant'] == 20]['Metric Value'].iloc[0])\n",
    "\n",
    "    \n",
    "    if change >0:\n",
    "        print_text = \"up\"\n",
    "    \n",
    "    if change <0:\n",
    "        print_text = \"down\"\n",
    "        \n",
    "    a = '{:,} new tests on {}/{}, {} {:.1f}% from {:,} last {}.'.format(new_case_yday,yday.month,yday.day,print_text,abs(change),new_case_last_week,calendar.day_name[week_ago.weekday()])\n",
    "    \n",
    "    #a = 'U.S. reported {:,} new tests on {}, {}/{}, down {:.1f}% from {:,} last {}, {}/{}. '.format(new_case_yday,calendar.day_name[yday.weekday()],yday.month,yday.day,abs(change),new_case_last_week,calendar.day_name[week_ago.weekday()],week_ago.month,week_ago.day)\n",
    "    \n",
    "#    b = ' Change in WoW 7-day moving average of new tests at {:.1f}%.'.format(MA_pc) \n",
    " \n",
    "           \n",
    "    return a  \n",
    "\n",
    "def new_tests_KPI2 (df):\n",
    "\n",
    "    new_case_yday = int(df[df['Join Constant'] == 15]['Metric Value'].iloc[0])\n",
    "    new_case_last_week = int(df[df['Join Constant'] == 16]['Metric Value'].iloc[0])\n",
    "    change = df[df['Join Constant'] == 17]['Metric Value'].iloc[0]\n",
    "\n",
    "    MA_pc = df[df['Join Constant'] == 18]['Metric Value'].iloc[0]\n",
    "    MA_yday = float(df[df['Join Constant'] == 19]['Metric Value'].iloc[0])\n",
    "    MA_last_month = float(df[df['Join Constant'] == 21]['Metric Value'].iloc[0])\n",
    "    MA_change = float(df[df['Join Constant'] == 20]['Metric Value'].iloc[0])\n",
    "\n",
    "    \n",
    "   \n",
    "    b = ' Change in WoW 7-day moving average of new tests at {:.1f}%.'.format(MA_pc) \n",
    " \n",
    "    if MA_pc >= 0:\n",
    "        print_text_ma_pc = \"up\"\n",
    "    else:\n",
    "        print_text_ma_pc = \"down\"\n",
    "\n",
    "    if MA_change >0:\n",
    "        print_text = \"up\"\n",
    "    if MA_change <0:\n",
    "        print_text = \"down\"\n",
    "        \n",
    "    a = '{:,.0f} ({} {:.1f}% WoW) nominal 7-day moving average of new tests on {}/{}, {} {:.1f}% from {:,.0f} one month ago.'.format(MA_yday,print_text_ma_pc,abs(MA_pc),yday.month,yday.day,print_text,abs(MA_change),MA_last_month)\n",
    "         \n",
    "    #c = ' Nominal 7-day moving average of new tests at {:,.0f} vs. {:,.0f} one month ago, up {:.1f}%.'.format(MA_yday,MA_last_month,MA_change)\n",
    "    \n",
    "    return a\n",
    "\n",
    "US_Comment_Tests1 = new_tests_KPI1(df)\n",
    "US_Comment_Tests2 = new_tests_KPI2(df)\n",
    "\n",
    "print(US_Comment_Tests1)\n",
    "print(US_Comment_Tests2)"
   ]
  },
  {
   "cell_type": "code",
   "execution_count": null,
   "metadata": {},
   "outputs": [],
   "source": []
  }
 ],
 "metadata": {
  "kernelspec": {
   "display_name": "Python 3",
   "language": "python",
   "name": "python3"
  },
  "language_info": {
   "codemirror_mode": {
    "name": "ipython",
    "version": 3
   },
   "file_extension": ".py",
   "mimetype": "text/x-python",
   "name": "python",
   "nbconvert_exporter": "python",
   "pygments_lexer": "ipython3",
   "version": "3.8.5"
  }
 },
 "nbformat": 4,
 "nbformat_minor": 4
}
