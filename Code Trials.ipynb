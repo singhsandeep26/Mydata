{
 "cells": [
  {
   "cell_type": "code",
   "execution_count": 67,
   "metadata": {},
   "outputs": [
    {
     "name": "stdout",
     "output_type": "stream",
     "text": [
      "abdominal pain\n",
      "abdominal pain\n",
      "abdominal pain\n",
      "abdominal pain\n",
      "abdominal pain\n",
      "abdominal pain\n",
      "abdominal pain\n",
      "abdominal pain\n",
      "abdominal pain\n",
      "['abdominal pain', 'abdominal pain', 'abdominal pain', 'abdominal pain', 'abdominal pain', 'vomiting', 'abdominal pain', 'abdominal pain', 'abdominal pain', 'sob', 'abdominal pain', 'pain in chest, back pain, wors; 100000; 4019; 4293; 78650; i161; i517; r079']\n",
      "[' LOWER LT SIDE ABD PAIN AND LOW', 'SOB', ' PAIN IN CHEST, BACK PAIN, WORS; 100000; 401.9; 429.3; 786.50; I16.1; I51.7; R07.9', ' PAIN WHILE URINATING/ABD PAIN', 'VOMITING', ' BUMP ON RT LOWER ABD', ' ABDOMIANL PAIN', 'ABD', ' RLQ ABD PAIN', ' ABD PAIN/BACK PAIN', 'ABDOMINAL PAIN', 'ABDOMINAL PAIN IN PREGNANCY &LT']\n",
      "   A  B\n",
      "0  5  1\n",
      "1  6  2\n",
      "2  3  3\n",
      "3  4  5\n",
      "[2, 3]\n",
      "I want 4 apples and 18 bananas\n",
      "{'Geeks', 'for'}\n"
     ]
    }
   ],
   "source": [
    "# Regular expression library\n",
    "import re\n",
    "\n",
    "# Add or remove the words in this list to vary the results\n",
    "split = [\"abd\", \" BUMP ON RT LOWER ABD\", \"Abdominal Pain\", \"Abdominal pain in pregnancy &lt\",\n",
    "            \" RLQ abd pain\",\"Vomiting\", \" Pain while urinating/Abd Pain\", \" ABD PAIN/BACK PAIN\",\n",
    "            \" LOWER LT SIDE ABD PAIN AND LOW\",\"SOB\",\" abdomianl pain\",\" Pain in chest, back pain, wors; 100000; 401.9; 429.3; 786.50; I16.1; I51.7; R07.9\"]\n",
    "#pattern = \"abd\"\n",
    "clean_lst = []\n",
    "for i in range(len(split)):\n",
    "    a = split[i].strip()\n",
    "    a = a.replace(\".\",'')\n",
    "    a = a.lower()\n",
    "    if(re.findall(r\"abd*\",a)):\n",
    "        a = \"abdominal pain\"\n",
    "        print(a)\n",
    "    else:\n",
    "        a\n",
    "    clean_lst.append(a)\n",
    "print(clean_lst)\n",
    "\n",
    "codes = []\n",
    "\n",
    "split1 = {\"abd\", \" BUMP ON RT LOWER ABD\", \"Abdominal Pain\", \"Abdominal pain in pregnancy &lt\",\n",
    "            \" RLQ abd pain\",\"Vomiting\", \" Pain while urinating/Abd Pain\", \" ABD PAIN/BACK PAIN\",\n",
    "            \" LOWER LT SIDE ABD PAIN AND LOW\",\"SOB\",\" abdomianl pain\",\" Pain in chest, back pain, wors; 100000; 401.9; 429.3; 786.50; I16.1; I51.7; R07.9\"} \n",
    "\n",
    "split1 = list(split1)\n",
    "\n",
    "for i in range(len(split1)):\n",
    "    if(isinstance(split1[i],int)):\n",
    "        codes.append(split1[i])\n",
    "    else:\n",
    "        codes.append(split1[i].upper())\n",
    "\n",
    "print(codes)\n",
    "\n",
    "df = pd.DataFrame({'A': [5,6,3,4], 'B': [1,2,3,5]})\n",
    "\n",
    "print(df)\n",
    "\n",
    "look = {\"3\",\"6\"}\n",
    "\n",
    "print(df[\"B\"][df['A'].isin(look)].tolist())\n",
    "\n",
    "s = ['I', 'want', 4, 'apples', 'and', 18, 'bananas']\n",
    "  \n",
    "# using list comprehension\n",
    "listToStr = ' '.join([str(elem) for elem in s])\n",
    "  \n",
    "print(listToStr)\n",
    "\n",
    "u_list = [\"Geeks\",\"for\",\"Geeks\"]\n",
    "\n",
    "list_set=set(u_list)\n",
    "\n",
    "print(list_set)"
   ]
  },
  {
   "cell_type": "code",
   "execution_count": null,
   "metadata": {
    "collapsed": true
   },
   "outputs": [],
   "source": []
  }
 ],
 "metadata": {
  "kernelspec": {
   "display_name": "Python 3",
   "language": "python",
   "name": "python3"
  },
  "language_info": {
   "codemirror_mode": {
    "name": "ipython",
    "version": 3
   },
   "file_extension": ".py",
   "mimetype": "text/x-python",
   "name": "python",
   "nbconvert_exporter": "python",
   "pygments_lexer": "ipython3",
   "version": "3.6.1"
  }
 },
 "nbformat": 4,
 "nbformat_minor": 2
}
