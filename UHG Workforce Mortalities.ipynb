{
 "cells": [
  {
   "cell_type": "code",
   "execution_count": 1,
   "metadata": {},
   "outputs": [
    {
     "ename": "SyntaxError",
     "evalue": "invalid syntax (<ipython-input-1-ed8169467546>, line 63)",
     "output_type": "error",
     "traceback": [
      "\u001b[1;36m  File \u001b[1;32m\"<ipython-input-1-ed8169467546>\"\u001b[1;36m, line \u001b[1;32m63\u001b[0m\n\u001b[1;33m    df = df[filter2 & filter3 & filter4]\u001b[0m\n\u001b[1;37m     ^\u001b[0m\n\u001b[1;31mSyntaxError\u001b[0m\u001b[1;31m:\u001b[0m invalid syntax\n"
     ]
    }
   ],
   "source": [
    "import pandas as pd\n",
    "import numpy as np\n",
    "import datetime as dt\n",
    "import calendar\n",
    "from dateutil.relativedelta import relativedelta\n",
    "\n",
    "df = pd.read_excel(r'C:\\Users\\ssing296\\Desktop\\Python-Coursera\\COVID_QA_Final_Output.xlsx')\n",
    "\n",
    "mortality_last14days = pd.read_excel(r'C:\\Users\\ssing296\\Desktop\\Python-Coursera\\UHG Workforce Active Cases Test1.xlsx')\n",
    "\n",
    "moratlity_data = pd.read_excel(r'C:\\Users\\ssing296\\Desktop\\Python-Coursera\\HC_ServiceNow_HRHD_PI_COVID.xlsx')\n",
    "\n",
    "units = {0:\"None\",1: \"one\",2:\"two\",3:\"three\",4:\"four\",5:\"five\",6:\"six\",7:\"seven\",8:\"eight\",9:\"nine\"}\n",
    "\n",
    "#print(morality_data)\n",
    "\n",
    "morality_last14days = morality_last14days[morality_last14days['Rank'].between(1,16) | morality_last14days['Employee Population Flag'] == 1] \n",
    "\n",
    "morality_last14days_cnt = morality_last14days['Count'].sum()\n",
    "\n",
    "filter = morality_data['EOHS Outcome'].isin(['Death','Hospitalized','Recovered','Quarantine'])\n",
    "\n",
    "morality_data = morality_data[filter]\n",
    "\n",
    "morality_data_cnt = morality_data['Count'].sum()\n",
    "\n",
    "num2words = {0: 'none',1: 'one', 2: 'two', 3: 'three', 4: 'four', 5: 'five', \\\n",
    "             6: 'six', 7: 'seven', 8: 'eight', 9: 'nine'}\n",
    "def n2w(n):\n",
    "    try:\n",
    "        return (num2words[n])\n",
    "    except KeyError:\n",
    "        try:\n",
    "            return num2words[n-n%10] + num2words[n%10].lower()\n",
    "        except KeyError:\n",
    "            return n\n",
    "\n",
    "def uhg_wf_rec(df):\n",
    "    filter = df['EOHS Outcome'].isin(['Death','Hospitalized','Recovered','Quarantine'])\n",
    "    morality_data = df[filter]\n",
    "    uhg_wf_rec_cnt = df['Count'].sum()\n",
    "    a = '{} employees in recovered Staus'.format(uhg_wf_rec_cnt)\n",
    "    return a\n",
    "\n",
    "def morality(df1,df2):\n",
    "    filter1 = (df1['Rank'].between(1,16)) | (df1['Employee Population Flag'] == 1)\n",
    "    filter2 = (df1['EOHS Outcome'] == 'Death') & (df1['Case First Updated Rank'] == 1)\n",
    "    df1 = df1[filter1 & filter2] \n",
    "    morality_last14days_cnt = df1['Count'].sum()\n",
    "  \n",
    "     \n",
    "    df2  =df2[(df2['EOHS Outcome'] == 'Death') & (df2['Employee Type'] == 'Employee')] \n",
    "    \n",
    "    morality_data_cnt = df2['Count'].sum()\n",
    "    a = '{} mortalities, {} in the last 14 days.'.format(morality_data_cnt,(morality_last14days_cnt))\n",
    "    return a\n",
    "            \n",
    "    \n",
    "def uhg_wf_active(df):\n",
    "    #filter1 = df['EOHS Outcome'].isin(['Hospitalized','Isolation','Quarantine'])\n",
    "    filter2 = (df['Case Closed Prematurly'] == 'No') \n",
    "    filter3 = df['Assignment group'].isin(['UHCG Health & Safety','US Health & Safety'])\n",
    "    filter4 = (df['2-week identifier'] ==2 | (df['Employee Population Flag'] == 1)\n",
    "    df = df[filter2 & filter3 & filter4]\n",
    "    test = df['Number'].nunique()\n",
    "    test123 = set(df['Number'])\n",
    "    print(\"Test\")\n",
    "    print(test)\n",
    "    print(test123)\n",
    "    \n",
    "    uhg_wf_hosp_cnt = df[df['EOHS Outcome'] == 'Hospitalized']['Number'].nunique()\n",
    "    print(uhg_wf_hosp_cnt)\n",
    "    uhg_wf_iso_cnt = df[df['EOHS Outcome'] == 'Isolation']['Number'].nunique()\n",
    "    print(uhg_wf_iso_cnt)\n",
    "    uhg_wf_quarn_cnt = df[df['EOHS Outcome'] == 'Quarantine']['Number'].nunique()\n",
    "    print(uhg_wf_quarn_cnt)\n",
    "    a = '{} active employee cases (currently isolated, hospitalized, or quarantined).'.format(uhg_wf_hosp_cnt+uhg_wf_iso_cnt+uhg_wf_quarn_cnt)\n",
    "    return a\n",
    "\n",
    "#UHG_Workforce_Comments_active = uhg_wf_active(morality_last14days)\n",
    "#my_dict['Summary']['UHG Workforce Active Cases'] = UHG_Workforce_Comments_active\n",
    "    \n",
    "print(n2w(8))\n",
    "print(mortality_last14days_cnt)\n",
    "print(mortality_data_cnt)\n",
    "print(uhg_wf_rec(mortality_data))\n",
    "print(morality(mortality_last14days,mortality_data))\n",
    "print(uhg_wf_active(mortality_last14days))"
   ]
  },
  {
   "cell_type": "code",
   "execution_count": null,
   "metadata": {
    "collapsed": true
   },
   "outputs": [],
   "source": []
  }
 ],
 "metadata": {
  "kernelspec": {
   "display_name": "Python 3",
   "language": "python",
   "name": "python3"
  },
  "language_info": {
   "codemirror_mode": {
    "name": "ipython",
    "version": 3
   },
   "file_extension": ".py",
   "mimetype": "text/x-python",
   "name": "python",
   "nbconvert_exporter": "python",
   "pygments_lexer": "ipython3",
   "version": "3.8.5"
  }
 },
 "nbformat": 4,
 "nbformat_minor": 2
}
