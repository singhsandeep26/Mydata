{
 "cells": [
  {
   "cell_type": "code",
   "execution_count": 75,
   "metadata": {},
   "outputs": [
    {
     "name": "stdout",
     "output_type": "stream",
     "text": [
      "<class 'datetime.timedelta'>\n"
     ]
    }
   ],
   "source": [
    "import pandas as pd\n",
    "import numpy as np\n",
    "#import datetime as dt\n",
    "import calendar\n",
    "from dateutil.relativedelta import relativedelta\n",
    "from datetime import datetime\n",
    "\n",
    "cdo_test = pd.read_excel(r'C:\\Users\\ssing296\\Desktop\\Python-Coursera\\Joins_Example_Python.xlsx')\n",
    "\n",
    "dataset = pd.read_excel(r'C:\\Users\\ssing296\\Desktop\\Natividad\\FCOTTest.xlsx')\n",
    "\n",
    "#ArrayOfClosingPrices = cdo_test.loc[:,\"Salary_($)\"].values\n",
    "\n",
    "sal_lst = cdo_test[\"Salary_($)\"].tolist()\n",
    "\n",
    "Sal_increment = np.zeros(len(sal_lst))\n",
    "\n",
    "def incre_cal(mylst):\n",
    "    for i in range(len(mylst)):\n",
    "        nsal = mylst[i]*1.09\n",
    "        Sal_increment[i]=nsal\n",
    "    return Sal_increment\n",
    "\n",
    "incre_cal(sal_lst)      \n",
    "\n",
    "elon_array = np.array(Sal_increment)\n",
    "\n",
    "\n",
    "#print(elon_array)\n",
    "\n",
    "firstcasestrt = '07:00:00'\n",
    "firstcasestp =  '09:30:00'\n",
    "FMT = '%H:%M:%S'\n",
    "\n",
    "#date_time_obj = datetime.strptime(firstcasestrt, '%d/%m/%y %H:%M:%S')\n",
    "#date_time_obj1 = datetime.strptime(firstcasestp, '%d/%m/%y %H:%M:%S')\n",
    "\n",
    "\n",
    "\n",
    "#print(date_time_obj.time)\n",
    "#print(date_time_obj1)\n",
    "\n",
    "#print(dataset[\"dataset.loc[0,'InRoomTime']\"])\n",
    "\n",
    "\n",
    "s1 = '10:33:26'\n",
    "s2 = '11:15:49' \n",
    "\n",
    "tdelta = datetime.strptime(firstcasestp, FMT) - datetime.strptime(firstcasestrt, FMT)\n",
    "\n",
    "#print(tdelta)\n",
    "\n",
    "#print(dataset.loc[0,'PatientInRoomActualDatetime'])\n",
    "\n",
    "dataset['PatientInRoomActualDatetime']= pd.to_datetime(dataset['PatientInRoomActualDatetime'])\n",
    "dataset[\"intime\"] = dataset['PatientInRoomActualDatetime'].dt.time\n",
    "dataset['intime']= dataset['intime'].astype(str)\n",
    "\n",
    "\n",
    "#dataset['intime']= pd.to_datetime(dataset['PatientInRoomActualDatetime'],FMT)\n",
    "#print(dataset['intime'])\n",
    "\n",
    "print(type(tdelta))"
   ]
  },
  {
   "cell_type": "code",
   "execution_count": null,
   "metadata": {},
   "outputs": [],
   "source": []
  }
 ],
 "metadata": {
  "kernelspec": {
   "display_name": "Python 3",
   "language": "python",
   "name": "python3"
  },
  "language_info": {
   "codemirror_mode": {
    "name": "ipython",
    "version": 3
   },
   "file_extension": ".py",
   "mimetype": "text/x-python",
   "name": "python",
   "nbconvert_exporter": "python",
   "pygments_lexer": "ipython3",
   "version": "3.8.5"
  }
 },
 "nbformat": 4,
 "nbformat_minor": 4
}
