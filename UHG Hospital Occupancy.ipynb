{
 "cells": [
  {
   "cell_type": "code",
   "execution_count": 1,
   "metadata": {},
   "outputs": [
    {
     "name": "stdout",
     "output_type": "stream",
     "text": [
      "<class 'datetime.datetime'>\n",
      "86% UHC Global overall bed occupancy, with ICU at 86% and regular beds at 86% as of 3/11.\n"
     ]
    }
   ],
   "source": [
    "import pandas as pd\n",
    "import numpy as np\n",
    "import datetime as dt\n",
    "import calendar\n",
    "from dateutil.relativedelta import relativedelta\n",
    "\n",
    "\n",
    "\n",
    "df = pd.read_excel(r'C:\\Users\\ssing296\\Desktop\\Python-Coursera\\Global UHCG CDO Hospital Occupancy.xlsx')\n",
    "\n",
    "\n",
    "def UHG_B7 (df):\n",
    "    \n",
    "    unique_dt_lst = df['Uploaded Date'].tolist()\n",
    "    \n",
    "    print(type(dt.datetime.today()))\n",
    "    \n",
    "    tday = np.datetime64(dt.datetime.today())\n",
    "    \n",
    "    dtlst = []\n",
    "    for i in range(0,len(unique_dt_lst)):\n",
    "        if(unique_dt_lst[i] <= tday ):\n",
    "            dtlst.append(list(unique_dt_lst)[i])\n",
    "    \n",
    "    maxdate = max(dtlst)\n",
    "    month = maxdate.month\n",
    "    day = maxdate.day\n",
    "    \n",
    "    total_occu_per = df[df['Formatted Organization Name'] == \"Total UHC Global\"]['Total Occupancy %'].sum()\n",
    "    \n",
    "    \n",
    "    reg_occu_per = df[df['Formatted Organization Name'] == \"Total UHC Global\"]['Regular Occupancy %'].sum()\n",
    "    \n",
    "    icu_occu_per = df[df['Formatted Organization Name'] == \"Total UHC Global\"]['ICU Occupancy %'].sum()\n",
    "    \n",
    "    \n",
    "    a = '{:,.0f}% UHC Global overall bed occupancy, with ICU at {:,.0f}% and regular beds at {:,.0f}% as of {}/{}.'.format(round(total_occu_per*100),round(icu_occu_per*100),round(reg_occu_per*100),month,day)\n",
    "  \n",
    "    return a\n",
    "\n",
    "\n",
    "\n",
    "    \n",
    "UHG_Workforce_Comments_B7 = UHG_B7(df)\n",
    "\n",
    "print(UHG_Workforce_Comments_B7)"
   ]
  },
  {
   "cell_type": "code",
   "execution_count": null,
   "metadata": {},
   "outputs": [],
   "source": []
  }
 ],
 "metadata": {
  "kernelspec": {
   "display_name": "Python 3",
   "language": "python",
   "name": "python3"
  },
  "language_info": {
   "codemirror_mode": {
    "name": "ipython",
    "version": 3
   },
   "file_extension": ".py",
   "mimetype": "text/x-python",
   "name": "python",
   "nbconvert_exporter": "python",
   "pygments_lexer": "ipython3",
   "version": "3.8.5"
  }
 },
 "nbformat": 4,
 "nbformat_minor": 4
}
