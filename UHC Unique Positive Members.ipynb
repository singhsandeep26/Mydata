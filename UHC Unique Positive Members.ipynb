{
 "cells": [
  {
   "cell_type": "code",
   "execution_count": 38,
   "metadata": {
    "scrolled": false
   },
   "outputs": [
    {
     "name": "stdout",
     "output_type": "stream",
     "text": [
      "2,855,092 unique UHC members with a COVID-19 diagnosis identified via claims data as of 1/13. COVID patient counts include physician claims through 1/12 batch date and facility claims through 1/11 batch date.\n"
     ]
    }
   ],
   "source": [
    "import pandas as pd\n",
    "import numpy as np\n",
    "import datetime as dt\n",
    "import calendar\n",
    "from dateutil.relativedelta import relativedelta\n",
    "\n",
    "UHC_Covid_Patien_Cnt = pd.read_excel(r'C:\\Users\\ssing296\\Desktop\\Python-Coursera\\UHC Unique COVID Patient Count.xlsx')\n",
    "\n",
    "def uhc_unique_positive_mbrs(df):\n",
    "\n",
    "    total_count_lst = df['Total'].iloc[0:10].tolist()\n",
    "    total_count = total_count_lst[0]\n",
    "    \n",
    "    prof_claims_date = df['Professional Claims Date'].iloc[0:10].tolist()\n",
    "    prof_claims_md = str(prof_claims_date[0].month)+'/'+ str(prof_claims_date[0].day)\n",
    "    \n",
    "    facility_claims_date = df['Facility Claims Date'].iloc[0:10].tolist()\n",
    "    facility_claims_md = str(facility_claims_date[0].month)+'/'+ str(facility_claims_date[0].day)\n",
    "\n",
    "    batch_last_run = df['_BATCH_LAST_RUN_'].iloc[0:10].tolist()\n",
    "    batch_last_run_md = str(batch_last_run[0].month)+'/'+ str(batch_last_run[0].day)\n",
    "\n",
    "    a = \"{:,} unique UHC members with a COVID-19 diagnosis identified via claims data as of {}. COVID patient counts include physician claims through {} batch date and facility claims through {} batch date.\".format(total_count,batch_last_run_md,prof_claims_md,facility_claims_md)\n",
    "\n",
    "    return a\n",
    "\n",
    "    \n",
    "    \n",
    "\n",
    "abc = uhc_unique_positive_mbrs(UHC_Covid_Patien_Cnt)\n",
    "print(abc)"
   ]
  },
  {
   "cell_type": "code",
   "execution_count": null,
   "metadata": {
    "collapsed": true
   },
   "outputs": [],
   "source": []
  }
 ],
 "metadata": {
  "kernelspec": {
   "display_name": "Python 3",
   "language": "python",
   "name": "python3"
  },
  "language_info": {
   "codemirror_mode": {
    "name": "ipython",
    "version": 3
   },
   "file_extension": ".py",
   "mimetype": "text/x-python",
   "name": "python",
   "nbconvert_exporter": "python",
   "pygments_lexer": "ipython3",
   "version": "3.6.1"
  }
 },
 "nbformat": 4,
 "nbformat_minor": 2
}
