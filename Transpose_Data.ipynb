{
 "cells": [
  {
   "cell_type": "code",
   "execution_count": 58,
   "metadata": {},
   "outputs": [
    {
     "name": "stdout",
     "output_type": "stream",
     "text": [
      "   INF1.1  INF1.2 Enter care provider name below\n",
      "0     1.0     2.0                          avvvf\n",
      "1     5.0     2.0                            BMH\n",
      "2     NaN     NaN                            NaN\n",
      "3     1.0     3.0                       Harshita\n",
      "4     3.0     3.0                            JMQ\n",
      "5     2.0     5.0                  Test Hospital\n",
      "6     5.0     5.0                   Ross Medical\n",
      "7     5.0     4.0                    Kelly Green\n"
     ]
    }
   ],
   "source": [
    "import pandas as pd\n",
    "\n",
    "df = pd.read_excel(r'C:\\Users\\ssing296\\Desktop\\Venky\\Data.xlsx')\n",
    "\n",
    "df.drop(['Email','ID','Start time','Completion time','Name'], axis = 1, inplace=True)\n",
    "\n",
    "\n",
    "\n",
    "#df1 = df.transpose()\n",
    "\n",
    "#print(df.head())\n",
    "\n",
    "df.melt(id_vars=['Enter care provider name below'],var_name='INF1.1', value_name='INF1.1')\n",
    "\n",
    "print(df)\n",
    "\n",
    "#df_melt=pd.melt(df, id_vars=[‘INF1.1’,’INF1.1’],value_vars=[‘MinDuration’,’MaxDuration’],var_name=’DurationType’,value_name=’Duration’)df_melt\n",
    "\n",
    "#df1.to_excel(r'C:\\Users\\ssing296\\Desktop\\Venky\\py_Data.xlsx')"
   ]
  },
  {
   "cell_type": "code",
   "execution_count": null,
   "metadata": {
    "collapsed": true
   },
   "outputs": [],
   "source": []
  }
 ],
 "metadata": {
  "kernelspec": {
   "display_name": "Python 3",
   "language": "python",
   "name": "python3"
  },
  "language_info": {
   "codemirror_mode": {
    "name": "ipython",
    "version": 3
   },
   "file_extension": ".py",
   "mimetype": "text/x-python",
   "name": "python",
   "nbconvert_exporter": "python",
   "pygments_lexer": "ipython3",
   "version": "3.6.1"
  }
 },
 "nbformat": 4,
 "nbformat_minor": 2
}
