{
 "cells": [
  {
   "cell_type": "code",
   "execution_count": 14,
   "metadata": {},
   "outputs": [
    {
     "name": "stdout",
     "output_type": "stream",
     "text": [
      "    Emp ID  Salary_($)       Date             Flag\n",
      "0      1.0         100 2021-01-01      Cancel Data\n",
      "1      2.0          90 2021-01-01      Cancel Data\n",
      "2      3.0         110 2021-01-01      Cancel Data\n",
      "3      4.0          95 2021-01-01      Cancel Data\n",
      "4      1.0         115 2021-01-02      Cancel Data\n",
      "5      2.0         105 2021-01-02      Cancel Data\n",
      "6      3.0         125 2021-01-02      Cancel Data\n",
      "7      4.0         110 2021-01-02      Cancel Data\n",
      "8      6.0         200 2021-01-02      Cancel Data\n",
      "9      NaN         111 2021-01-03      Cancel Data\n",
      "10     7.0         121        NaT  Non Cancel Data\n",
      "11     9.0         150        NaT  Non Cancel Data\n",
      "   CancellationReason PatientInRoomActualDatetime             Flag\n",
      "1                 NaN         2021-05-31 21:44:00  Non Cancel Data\n",
      "4                 NaN         2021-05-31 17:44:00  Non Cancel Data\n",
      "6                 NaN         2021-05-31 09:07:00  Non Cancel Data\n",
      "7                 NaN         2021-05-30 19:00:00  Non Cancel Data\n",
      "8                 NaN         2021-05-30 23:32:00  Non Cancel Data\n",
      "9                 NaN         2021-05-30 12:47:00  Non Cancel Data\n",
      "10                NaN         2021-05-30 08:30:00  Non Cancel Data\n",
      "12                NaN         2021-05-29 21:20:00  Non Cancel Data\n",
      "13                NaN         2021-05-29 16:56:00  Non Cancel Data\n"
     ]
    }
   ],
   "source": [
    "import pandas as pd\n",
    "import numpy as np\n",
    "import datetime as dt\n",
    "import calendar\n",
    "from dateutil.relativedelta import relativedelta\n",
    "\n",
    "df = pd.read_excel(r'C:\\Users\\ssing296\\Desktop\\Natividad\\Cancellation Demo.xlsx')\n",
    "\n",
    "test = pd.read_excel(r'C:\\Users\\ssing296\\Desktop\\Python-Coursera\\Joins_Example_Python.xlsx')\n",
    "\n",
    "\n",
    "def flagdf(mydf):\n",
    "    if(pd.notnull(mydf[\"Date\"])):\n",
    "        \n",
    "        return \"Cancel Data\"\n",
    "    else:\n",
    "        return \"Non Cancel Data\"\n",
    "    \n",
    "test['Flag'] = test.apply(flagdf, axis = 1)\n",
    " \n",
    "print(test)\n",
    "\n",
    "\n",
    "def flagdf(mydf):\n",
    "    if(pd.notnull(mydf[\"PatientInRoomActualDatetime\"])):\n",
    "        if(pd.notnull(mydf[\"CancellationReason\"])):\n",
    "            return \"Cancel Data\"\n",
    "        else:\n",
    "            return \"Non Cancel Data\"\n",
    "    else:\n",
    "        return \"Cancel Data\"\n",
    "    \n",
    "df['Flag'] = df.apply(flagdf, axis = 1)\n",
    "\n",
    "df = df[df[\"Flag\"].isin([\"Non Cancel Data\"])]\n",
    "\n",
    "print(df[[\"CancellationReason\",\"PatientInRoomActualDatetime\",\"Flag\"]])\n",
    "\n",
    "#df.to_excel(r'C:\\Users\\ssing296\\Desktop\\Natividad\\python_result.xlsx', index = False)"
   ]
  },
  {
   "cell_type": "code",
   "execution_count": null,
   "metadata": {
    "collapsed": true
   },
   "outputs": [],
   "source": []
  }
 ],
 "metadata": {
  "kernelspec": {
   "display_name": "Python 3",
   "language": "python",
   "name": "python3"
  },
  "language_info": {
   "codemirror_mode": {
    "name": "ipython",
    "version": 3
   },
   "file_extension": ".py",
   "mimetype": "text/x-python",
   "name": "python",
   "nbconvert_exporter": "python",
   "pygments_lexer": "ipython3",
   "version": "3.6.1"
  }
 },
 "nbformat": 4,
 "nbformat_minor": 4
}
