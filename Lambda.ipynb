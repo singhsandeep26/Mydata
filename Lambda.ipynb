{
 "cells": [
  {
   "cell_type": "code",
   "execution_count": 16,
   "metadata": {},
   "outputs": [
    {
     "name": "stdout",
     "output_type": "stream",
     "text": [
      "[[6, 4], [11, 21], [46, 9]]\n",
      "<function test1.<locals>.<lambda> at 0x000001FCA635CF28>\n",
      "['Mike', 'Harry', 'Emma']\n"
     ]
    }
   ],
   "source": [
    "import pandas as pd\n",
    "a = [[11,21],[6,4],[46,9]]\n",
    "a.sort(key=lambda x:x[0])\n",
    "print(a)\n",
    "\n",
    "def test1(col_name):\n",
    "    res1 = col_name\n",
    "    res1  = lambda res1 : True if (res1 == \"Primary Disease\") else False\n",
    "    return res1\n",
    "\n",
    "a = test1(\"Primary Disease\")\n",
    "print(a)\n",
    "\n",
    "split1 = ['Mike', 'Harry', 'Emma','nan','nan']\n",
    "split = [item for item in split1 if not(item == 'nan')]\n",
    "print(split)"
   ]
  },
  {
   "cell_type": "code",
   "execution_count": null,
   "metadata": {
    "collapsed": true
   },
   "outputs": [],
   "source": []
  }
 ],
 "metadata": {
  "kernelspec": {
   "display_name": "Python 3",
   "language": "python",
   "name": "python3"
  },
  "language_info": {
   "codemirror_mode": {
    "name": "ipython",
    "version": 3
   },
   "file_extension": ".py",
   "mimetype": "text/x-python",
   "name": "python",
   "nbconvert_exporter": "python",
   "pygments_lexer": "ipython3",
   "version": "3.6.1"
  }
 },
 "nbformat": 4,
 "nbformat_minor": 4
}
