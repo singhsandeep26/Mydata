{
 "cells": [
  {
   "cell_type": "code",
   "execution_count": 36,
   "metadata": {},
   "outputs": [
    {
     "name": "stdout",
     "output_type": "stream",
     "text": [
      "{'Latest Ranking': {0: 1}, 'Confirmed Cases': {0: 20276}, 'Current Hospitalizations': {0: 5002}, 'Cumulative Deaths': {0: 5229}}\n",
      "OptumHealth CDOs and Care Services reporting an aggregate total of 20,276 confirmed cases, with 5,002 currently hospitalized and 5,229 deaths.\n"
     ]
    }
   ],
   "source": [
    "import pandas as pd\n",
    "import numpy as np\n",
    "import datetime as dt\n",
    "import calendar\n",
    "from dateutil.relativedelta import relativedelta\n",
    "\n",
    "df = pd.read_excel(r'C:\\Users\\ssing296\\Desktop\\Python-Coursera\\COVID_QA_Final_Output.xlsx')\n",
    "\n",
    "test= pd.read_excel(r'C:\\Users\\ssing296\\Desktop\\Python-Coursera\\COVID_QA_Final Output_Testing_details.xlsx')\n",
    "Test2 = pd.read_excel(r'C:\\Users\\ssing296\\Desktop\\Python-Coursera\\COVID_QA_Final Output_Testing.xlsx')\n",
    "Test2 = Test2.sort_values(['Join Constant','Metric Value'], ascending = False)\n",
    "\n",
    "\n",
    "optumcare_cdo_ds = pd.read_excel(r'C:\\Users\\ssing296\\Desktop\\Python-Coursera\\OCT_OptumCare COVID-19_OD_SUM_CI.xlsx')\n",
    "\n",
    "\n",
    "#def UHG_CDO_Cases(df):\n",
    "\n",
    "for i in range(0,len(optumcare_cdo_ds)):\n",
    " \n",
    "    cdo_dict = optumcare_cdo_ds.to_dict()\n",
    "\n",
    "    \n",
    "print(cdo_dict)\n",
    "\n",
    "a ='OptumHealth CDOs and Care Services reporting an aggregate total of {:,.0f} confirmed cases, with {:,.0f} currently hospitalized and {:,.0f} deaths.'.format(cdo_dict['Confirmed Cases'][0], cdo_dict['Current Hospitalizations'][0],cdo_dict['Cumulative Deaths'][0])\n",
    "\n",
    "print(a)\n",
    "   \n",
    "\n",
    "ignore_state_list = ['SC']\n",
    "yday = dt.date.today() - dt.timedelta(days=1)\n",
    "\n",
    "\n",
    "\n",
    "\n",
    "UHG_Workforce = df[df['Section'] == 'UHG Workforce, Member/Patient, and Ops Data'][['Join Constant','Metric Value']].sort_values(['Join Constant'])\n",
    "#print(UHG_Workforce)\n",
    "cons_met_dict = {}\n",
    "for i in range(0,len(UHG_Workforce)):\n",
    "    cons_met_dict[UHG_Workforce.iloc[i,0]] = UHG_Workforce.iloc[i,1]\n",
    "#print(cons_met_dict)"
   ]
  },
  {
   "cell_type": "code",
   "execution_count": null,
   "metadata": {
    "collapsed": true
   },
   "outputs": [],
   "source": []
  }
 ],
 "metadata": {
  "kernelspec": {
   "display_name": "Python 3",
   "language": "python",
   "name": "python3"
  },
  "language_info": {
   "codemirror_mode": {
    "name": "ipython",
    "version": 3
   },
   "file_extension": ".py",
   "mimetype": "text/x-python",
   "name": "python",
   "nbconvert_exporter": "python",
   "pygments_lexer": "ipython3",
   "version": "3.6.1"
  }
 },
 "nbformat": 4,
 "nbformat_minor": 2
}
