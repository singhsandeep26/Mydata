{
 "cells": [
  {
   "cell_type": "code",
   "execution_count": 1,
   "metadata": {},
   "outputs": [
    {
     "name": "stdout",
     "output_type": "stream",
     "text": [
      "No states removed!\n",
      "Seven States had a 7-day average positivity rate greater than 20%: MS (100.0% vs. 4.4% previous month), SD (39.9% vs. 24.2%), ID (33.5% vs. 19.8%), WY (29.0% vs. 12.2%), IA (25.0% vs. 15.8%), AL (24.0% vs. 13.3%) and NE (20.8% vs. 13.6%).\n"
     ]
    }
   ],
   "source": [
    "import pandas as pd\n",
    "import numpy as np\n",
    "import datetime as dt\n",
    "import calendar\n",
    "from dateutil.relativedelta import relativedelta\n",
    "\n",
    "\n",
    "\n",
    "\n",
    "test = pd.read_excel(r'C:\\Users\\ssing296\\Desktop\\Python-Coursera\\COVID_QA_Final Output_Testing_details.xlsx')\n",
    "\n",
    "\n",
    "ignore_state_list = ['SC']\n",
    "\n",
    "n2w_dict = {0: 'none',1: 'one', 2: 'two', 3: 'three', 4: 'four', 5: 'five', \\\n",
    "             6: 'six', 7: 'seven', 8: 'eight', 9: 'nine'}\n",
    "\n",
    "num2words = {1: 'One', 2: 'Two', 3: 'Three', 4: 'Four', 5: 'Five', \\\n",
    "             6: 'Six', 7: 'Seven', 8: 'Eight', 9: 'Nine', 10: 'Ten', \\\n",
    "            11: 'Eleven', 12: 'Twelve', 13: 'Thirteen', 14: 'Fourteen', \\\n",
    "            15: 'Fifteen', 16: 'Sixteen', 17: 'Seventeen', 18: 'Eighteen', \\\n",
    "            19: 'Nineteen', 20: 'Twenty', 30: 'Thirty', 40: 'Forty', \\\n",
    "            50: 'Fifty', 60: 'Sixty', 70: 'Seventy', 80: 'Eighty', \\\n",
    "            90: 'Ninety', 0: 'Zero'}\n",
    "\n",
    "def n2w(n):\n",
    "  try:\n",
    "    return (num2words[n])\n",
    "  except KeyError:\n",
    "    try:\n",
    "      return num2words[n-n%10] + num2words[n%10].lower()\n",
    "    except KeyError:\n",
    "      return 'Number out of range'\n",
    "## Syed-8/20/2020: code to convert numbers below hundred to words\n",
    "        \n",
    "def us_states_positivity_greater(df,threshold,ignore_state_list,ignore_states_flag):\n",
    "    if ignore_states_flag == 1:\n",
    "      df = df[~df['State'].isin(ignore_state_list)]\n",
    "    else:\n",
    "      print('No states removed!')\n",
    "    greater_than_10pc = df[(df['Join Constant'] == 97) & (df['7 day positivity'] >= threshold)]['State'].tolist()\n",
    "    greater_than_10pc_values = df[(df['Join Constant'] == 97) & (df['7 day positivity'] >= threshold)]['7 day positivity'].tolist()\n",
    "    greater_than_10pc_prev_mon_values =  df[(df['Join Constant'] == 98) & (df['State'].isin(greater_than_10pc))]['7 day positivity'].tolist()\n",
    "    \n",
    "    pos_greater_pc_dict = {}\n",
    "    for i in range(0,len(greater_than_10pc)):\n",
    "        pos_greater_pc_dict[greater_than_10pc[i]] = [greater_than_10pc_values[i],greater_than_10pc_prev_mon_values[i]]\n",
    "        pos_greater_pc_dict = {k: v for k, v in sorted(pos_greater_pc_dict.items(),reverse = True, key=lambda x: x[1])}\n",
    "    \n",
    "    number_states = len(pos_greater_pc_dict)\n",
    "\n",
    "    expression = []\n",
    "    for i in range(0, len(pos_greater_pc_dict),1):\n",
    "        expression.append(list(pos_greater_pc_dict)[i])\n",
    "        expression.append(float(list(pos_greater_pc_dict.values())[i][0]))\n",
    "        expression.append(list(pos_greater_pc_dict.values())[i][1])\n",
    "        #print(expression)\n",
    "    for i in range(0, len(pos_greater_pc_dict),1):\n",
    "        expression.append(list(pos_greater_pc_dict.values())[i][1])\n",
    "   \n",
    "    if len(pos_greater_pc_dict) == 0:\n",
    "        for i in range(0,10):\n",
    "            pos_greater_pc_dict[int(i)] = int(i)\n",
    "        a = ''\n",
    "            \n",
    "    elif len(pos_greater_pc_dict) == 1:\n",
    "        a = '{} ({:.1f}% vs. {:.1f}% previous month) had a 7-day average positivity rate greater than ' + str(threshold) + '%.'.format(*expression)\n",
    "    elif len(pos_greater_pc_dict) == 2:\n",
    "        a = '{} ({:.1f}% vs. {:.1f}% previous month) and {} ({:.1f}% vs. {:.1f}%) had 7-day average positivity rates greater than ' + str(threshold) + '%.'.format(*expression)\n",
    "    \n",
    "    elif len(pos_greater_pc_dict) >2:\n",
    "        comment_length = len(pos_greater_pc_dict) - 2\n",
    "        #comment  = '{} ({:.1f}% vs. {:.1f}% previous month)' + comment_length*(', {} ({:.1f}% vs. {:.1f}%)') + ' and {} ({:.1f}% vs. {:.1f}%) had 7-day average positivity rates greater than ' + str(threshold) + '%.'.format(*expression)\n",
    "       \n",
    "        ## Syed-8/20/2020: code to format comments as per request on 8/19\n",
    "        #comment=n2w(len(pos_greater_pc_dict))+\" States had a 7-day average positivity rate greater than 12%: \" + comment_length*('{} ({:.1f}% vs. {:.1f}%)') + ' and {} ({:.1f}% vs. {:.1f}%).'.format(*expression)\n",
    "        comment=n2w(len(pos_greater_pc_dict))+\" States had a 7-day average positivity rate greater than 20%: \" + '{} ({:.1f}% vs. {:.1f}% previous month)' + comment_length*(', {} ({:.1f}% vs. {:.1f}%)') + ' and {} ({:.1f}% vs. {:.1f}%)' + str(\"\") + '.'.format(*expression)\n",
    "     \n",
    "        a = comment.format(*expression)\n",
    "    \n",
    "    return a\n",
    "\n",
    "States_Comments_Positivity = us_states_positivity_greater(test, 20,ignore_state_list,0)\n",
    "print(States_Comments_Positivity)"
   ]
  },
  {
   "cell_type": "code",
   "execution_count": null,
   "metadata": {
    "collapsed": true
   },
   "outputs": [],
   "source": []
  }
 ],
 "metadata": {
  "kernelspec": {
   "display_name": "Python 3",
   "language": "python",
   "name": "python3"
  },
  "language_info": {
   "codemirror_mode": {
    "name": "ipython",
    "version": 3
   },
   "file_extension": ".py",
   "mimetype": "text/x-python",
   "name": "python",
   "nbconvert_exporter": "python",
   "pygments_lexer": "ipython3",
   "version": "3.8.5"
  }
 },
 "nbformat": 4,
 "nbformat_minor": 2
}
