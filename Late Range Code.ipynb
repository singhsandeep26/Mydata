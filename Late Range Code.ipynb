{
 "cells": [
  {
   "cell_type": "code",
   "execution_count": 25,
   "metadata": {},
   "outputs": [
    {
     "name": "stdout",
     "output_type": "stream",
     "text": [
      "          Date  Flag\n",
      "0   2021-05-01  null\n",
      "1   2021-05-01  null\n",
      "2   2021-05-01  null\n",
      "3   2021-05-02  null\n",
      "4   2021-05-02  null\n",
      "..         ...   ...\n",
      "299 2021-05-31  null\n",
      "300 2021-05-31  null\n",
      "301 2021-05-31  null\n",
      "302 2021-05-31  null\n",
      "303 2021-05-31  null\n",
      "\n",
      "[304 rows x 2 columns]\n"
     ]
    }
   ],
   "source": [
    "import pandas as pd\n",
    "import numpy as np\n",
    "import datetime as dt\n",
    "import calendar\n",
    "from dateutil.relativedelta import relativedelta\n",
    "\n",
    "#df = pd.read_excel(r'C:\\Users\\ssing296\\Desktop\\Natividad\\Cancellation Demo.xlsx')\n",
    "\n",
    "#test = pd.read_excel(r'C:\\Users\\ssing296\\Desktop\\Python-Coursera\\Joins_Example_Python.xlsx')\n",
    "\n",
    "Range_Late = pd.read_excel(r'C:\\Users\\ssing296\\Desktop\\Natividad\\Test.xlsx')\n",
    "\n",
    "\n",
    "def late_range(df):\n",
    "    for i in range(1,len(df)):\n",
    "        if(df[\"First Case/ To follow Case\"] == \"FC\"):\n",
    "            if(pd.isnull(df[\"Min Late, Room\"])):\n",
    "                return \"On Time\"\n",
    "            elif(df[\"Min Late, Room\"] < 6):\n",
    "                return \"Within 5 min\"\n",
    "            elif(df[\"Min Late, Room\"] < 16):\n",
    "                return \"Within 15 min\"\n",
    "            elif(df[\"Min Late, Room\"] < 16):\n",
    "                return \"Within 15 min\"\n",
    "            elif(df[\"Min Late, Room\"] < 31):\n",
    "                return \"Within 30 min\"\n",
    "            elif(df[\"Min Late, Room\"] < 61):\n",
    "                return \"Within 1 Hour\"\n",
    "            elif(df[\"Min Late, Room\"] < 121):\n",
    "                return \"Within 2 Hour\"\n",
    "            else:\n",
    "                return \"Over 2 Hours\"\n",
    "        else:\n",
    "            return \"null\"\n",
    "\n",
    "Range_Late['Flag'] = Range_Late.apply(late_range, axis = 1)\n",
    "\n",
    "print(Range_Late[[\"Date\",\"Flag\"]])\n",
    "\n",
    "#Range_Late.to_excel(r'C:\\Users\\ssing296\\Desktop\\Natividad\\test_result.xlsx', index = False)"
   ]
  },
  {
   "cell_type": "code",
   "execution_count": null,
   "metadata": {},
   "outputs": [],
   "source": []
  }
 ],
 "metadata": {
  "kernelspec": {
   "display_name": "Python 3",
   "language": "python",
   "name": "python3"
  },
  "language_info": {
   "codemirror_mode": {
    "name": "ipython",
    "version": 3
   },
   "file_extension": ".py",
   "mimetype": "text/x-python",
   "name": "python",
   "nbconvert_exporter": "python",
   "pygments_lexer": "ipython3",
   "version": "3.8.5"
  }
 },
 "nbformat": 4,
 "nbformat_minor": 4
}
