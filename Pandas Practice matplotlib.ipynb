{
 "cells": [
  {
   "cell_type": "code",
   "execution_count": 39,
   "metadata": {},
   "outputs": [
    {
     "name": "stdout",
     "output_type": "stream",
     "text": [
      "Country\n",
      "Canada                      247428.5\n",
      "France                      240931.0\n",
      "Germany                     201494.0\n",
      "Mexico                      203325.0\n",
      "United States of America    234433.5\n",
      "Name: Units Sold, dtype: float64\n"
     ]
    }
   ],
   "source": [
    "import pandas as pd\n",
    "import numpy as np\n",
    "import datetime as dt\n",
    "import calendar\n",
    "from dateutil.relativedelta import relativedelta\n",
    "import matplotlib.pyplot as plt\n",
    "\n",
    "Fin_sample_2013 = pd.read_excel(r'C:\\Users\\ssing296\\Desktop\\Python-Coursera\\Financial Sample Data Power BI.xlsx', sheet_name='2013')\n",
    "Fin_sample_2014 = pd.read_excel(r'C:\\Users\\ssing296\\Desktop\\Python-Coursera\\Financial Sample Data Power BI.xlsx', sheet_name='2014')\n",
    "fin_sample = pd.concat([Fin_sample_2013,Fin_sample_2014],ignore_index=True).drop_duplicates()\n",
    "\n",
    "abc = fin_sample.groupby(['Country'])['Units Sold'].sum()\n",
    "#ax = fin_sample.plot.bar(x='Country', y='Units Sold', rot=0)\n",
    "#print(plt.show())\n",
    "print(abc)\n"
   ]
  },
  {
   "cell_type": "code",
   "execution_count": null,
   "metadata": {},
   "outputs": [],
   "source": []
  }
 ],
 "metadata": {
  "kernelspec": {
   "display_name": "Python 3",
   "language": "python",
   "name": "python3"
  },
  "language_info": {
   "codemirror_mode": {
    "name": "ipython",
    "version": 3
   },
   "file_extension": ".py",
   "mimetype": "text/x-python",
   "name": "python",
   "nbconvert_exporter": "python",
   "pygments_lexer": "ipython3",
   "version": "3.8.5"
  }
 },
 "nbformat": 4,
 "nbformat_minor": 2
}
