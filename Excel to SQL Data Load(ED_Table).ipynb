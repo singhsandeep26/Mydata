{
 "cells": [
  {
   "cell_type": "code",
   "execution_count": 7,
   "metadata": {},
   "outputs": [
    {
     "name": "stdout",
     "output_type": "stream",
     "text": [
      "Data Load Done\n"
     ]
    }
   ],
   "source": [
    "import pandas as pd\n",
    "import numpy as np\n",
    "import datetime as dt\n",
    "import calendar\n",
    "from dateutil.relativedelta import relativedelta\n",
    "import math\n",
    "import re\n",
    "import pyodbc\n",
    "\n",
    "\n",
    "\n",
    "# Reading Source Data 'ADT_Dummy Data' and 'ADT_ER_IP_04012021to07062021'\n",
    "\n",
    "server = 'wn000038725' \n",
    "database = 'oas_mas_stg' \n",
    "username = 'svcoimas'\n",
    "password = 'Canopyanalytics#124'\n",
    "\n",
    "#cnxn = pyodbc.connect('DRIVER={ODBC Driver 17 for SQL Server};SERVER='+server+';DATABASE='+database+';Trusted_Connection=yes;')\n",
    "cnxn = pyodbc.connect('DRIVER={ODBC Driver 17 for SQL Server};SERVER='+server+';DATABASE='+database+';UID='+username+';PWD='+ password)\n",
    "cursor = cnxn.cursor()\n",
    "\n",
    "df = pd.read_excel(r'C:\\Users\\ssing296\\Desktop\\Canopy\\Data Files\\ADT_ED_CSV_Py1.xlsx')\n",
    "\n",
    "df['Diagnosis'].fillna('blank_code', inplace=True)\n",
    "\n",
    "qry_insert = \"Insert into  [Canopy].[ARCH_ADT_ANDOR_ED_input] (ExternalVisitId,MemberID,FirstName,LastName,Gender,DOB,PhoneNumber,LSPhoneNumber,MedicalGroup,AdmitDate,DischargeDate,PatientClass,EncounterType,SiteName,LocationName,Diagnosis,AdmittedInpatient,IPVisitCount1Month,IPVisitCount12Months,EDVisitCount3Months,EDVisitCount12Months,CanopyProduct,PlanID,sequence_num,Source_File,load_time) values(?,?,?,?,?,?,?,?,?,?,?,?,?,?,?,?,?,?,?,?,?,?,?,?,?,?)\"\n",
    "\n",
    "\n",
    "#cursor.execute(\"truncate table [Canopy].[ARCH_ADT_ANDOR_ED_input]\")\n",
    "\n",
    "def check_null(column_value):\n",
    "    if(pd.isnull(column_value)):\n",
    "        column_value = None\n",
    "    else:\n",
    "        column_value\n",
    "    return column_value\n",
    "\n",
    "insert_batch = []\n",
    "rec = \"\"\n",
    "counter = 0;\n",
    "batchnum = 1;\n",
    "\n",
    "data_len = len(df)\n",
    "\n",
    "\n",
    "for index,row in df.iterrows():\n",
    "\n",
    "    rec = (check_null(row['ExternalVisitId']),check_null(row['MemberID']),row['FirstName'],row['LastName'],row['Gender'],row['DOB'],check_null(row['PhoneNumber']),check_null(row['LSPhoneNumber']),row['MedicalGroup'],check_null(row['AdmitDate']),check_null(row['DischargeDate']),row['PatientClass'],check_null(row['EncounterType']),row['SiteName'],row['LocationName'],check_null(row['Diagnosis']),row['AdmittedInpatient'],None,None,row['EDVisitCount3Months'],row['EDVisitCount12Months'],row['CanopyProduct'],row['PlanID'],row['sequence_num'],row['Source_File'],row['load_time'])    \n",
    "    insert_batch.append(rec)\n",
    "    counter = counter + 1;\n",
    "    if(counter%100 == 0):\n",
    "        cursor.executemany(qry_insert,insert_batch)\n",
    "        cursor.commit()\n",
    "        counter = 0\n",
    "        data_len = data_len - len(insert_batch)\n",
    "        insert_batch = []\n",
    "        batchnum = batchnum + 1\n",
    "\n",
    "if data_len != 0:\n",
    "    cursor.executemany(qry_insert,insert_batch)  \n",
    "\n",
    "    cursor.execute(qry_insert,rec)\n",
    "    \n",
    "print(\"Data Load Done\")\n",
    "\n",
    "cnxn.commit()\n",
    "cursor.close()"
   ]
  },
  {
   "cell_type": "code",
   "execution_count": null,
   "metadata": {
    "collapsed": true
   },
   "outputs": [],
   "source": []
  }
 ],
 "metadata": {
  "kernelspec": {
   "display_name": "Python 3",
   "language": "python",
   "name": "python3"
  },
  "language_info": {
   "codemirror_mode": {
    "name": "ipython",
    "version": 3
   },
   "file_extension": ".py",
   "mimetype": "text/x-python",
   "name": "python",
   "nbconvert_exporter": "python",
   "pygments_lexer": "ipython3",
   "version": "3.6.1"
  }
 },
 "nbformat": 4,
 "nbformat_minor": 2
}
